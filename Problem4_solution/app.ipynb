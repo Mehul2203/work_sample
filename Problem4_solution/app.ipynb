{
 "cells": [
  {
   "cell_type": "code",
   "execution_count": 149,
   "id": "88f4c37a-b5e7-4a28-bc5d-699b8206a630",
   "metadata": {},
   "outputs": [],
   "source": [
    "# importing required libraries\n",
    "\n",
    "from __future__ import division, print_function\n",
    "import numpy as np\n",
    "import joblib\n",
    "import jsonify\n",
    "import requests\n",
    "from flask import Flask, request,jsonify"
   ]
  },
  {
   "cell_type": "code",
   "execution_count": 150,
   "id": "f78159dd-2184-473a-bbfa-c78b6542b7c1",
   "metadata": {},
   "outputs": [],
   "source": [
    "# Define a flask app\n",
    "app = Flask(__name__)"
   ]
  },
  {
   "cell_type": "code",
   "execution_count": 151,
   "id": "bd2c679d-3dbb-4665-ad14-678928a42a16",
   "metadata": {},
   "outputs": [],
   "source": [
    "# Load the model from the file\n",
    "model = joblib.load('model.pkl')"
   ]
  },
  {
   "cell_type": "code",
   "execution_count": 152,
   "id": "010db410",
   "metadata": {},
   "outputs": [],
   "source": [
    "def predict(vol_moving_avg,adj_close_rolling_med, model):\n",
    "\n",
    "    test_inp = np.array([vol_moving_avg, adj_close_rolling_med]).reshape(1, 2)\n",
    "    volume_predicted = model.predict(test_inp)[0]\n",
    "    output = volume_predicted\n",
    "\n",
    "    return output"
   ]
  },
  {
   "cell_type": "code",
   "execution_count": 153,
   "id": "75a68507-98de-439f-99ed-19453f3b7a4d",
   "metadata": {},
   "outputs": [],
   "source": [
    "# accessing route endpoint (making a request)\n",
    "\n",
    "@app.route('/')\n",
    "def home():\n",
    "    vol_moving_avg = request.args.get('vol_moving_avg', request.args.get('vol_moving_avg', ''))\n",
    "    adj_close_rolling_med = request.args.get('adj_close_rolling_med', request.args.get('adj_close_rolling_med', ''))\n",
    "    \n",
    "    if not (vol_moving_avg or adj_close_rolling_med):\n",
    "        return jsonify({'error': 'You need to supply a the arguments'}), 400\n",
    "    return jsonify({\n",
    "        'vol_moving_avg': vol_moving_avg,\n",
    "        'adj_close_rolling_med': adj_close_rolling_med,\n",
    "        'predicted_volume': predict(vol_moving_avg,adj_close_rolling_med, model),\n",
    "    })"
   ]
  },
  {
   "cell_type": "code",
   "execution_count": 154,
   "id": "a7084003-69d6-4eef-95f5-41a2ac97da02",
   "metadata": {},
   "outputs": [],
   "source": [
    "volumne = requests.get('http://localhost:5000/', params={\"vol_moving_avg\": 6.721, \"adj_close_rolling_med\": 2.36})"
   ]
  },
  {
   "cell_type": "code",
   "execution_count": 155,
   "id": "edb1ebae",
   "metadata": {},
   "outputs": [
    {
     "data": {
      "text/plain": [
       "{'adj_close_rolling_med': '2.36',\n",
       " 'predicted_volume': 1654565.0,\n",
       " 'vol_moving_avg': '6.721'}"
      ]
     },
     "execution_count": 155,
     "metadata": {},
     "output_type": "execute_result"
    }
   ],
   "source": [
    "volumne.json()\n"
   ]
  },
  {
   "cell_type": "code",
   "execution_count": 156,
   "id": "dda24d21-70ef-455b-a8d6-a37dc37492d9",
   "metadata": {},
   "outputs": [],
   "source": [
    "# URL \n",
    "#http://localhost:5000/?vol_moving_avg=6.721&adj_close_rolling_med=2.36"
   ]
  }
 ],
 "metadata": {
  "kernelspec": {
   "display_name": "Python 3",
   "language": "python",
   "name": "python3"
  },
  "language_info": {
   "codemirror_mode": {
    "name": "ipython",
    "version": 3
   },
   "file_extension": ".py",
   "mimetype": "text/x-python",
   "name": "python",
   "nbconvert_exporter": "python",
   "pygments_lexer": "ipython3",
   "version": "3.8.8"
  }
 },
 "nbformat": 4,
 "nbformat_minor": 5
}
