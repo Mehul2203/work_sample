{
 "cells": [
  {
   "cell_type": "code",
   "execution_count": 1,
   "id": "88f4c37a-b5e7-4a28-bc5d-699b8206a630",
   "metadata": {},
   "outputs": [],
   "source": [
    "# importing required libraries\n",
    "\n",
    "from __future__ import division, print_function\n",
    "import numpy as np\n",
    "import joblib\n",
    "\n",
    "from flask import Flask, redirect, url_for, request, render_template"
   ]
  },
  {
   "cell_type": "code",
   "execution_count": 2,
   "id": "f78159dd-2184-473a-bbfa-c78b6542b7c1",
   "metadata": {},
   "outputs": [],
   "source": [
    "# Define a flask app\n",
    "app = Flask(__name__)"
   ]
  },
  {
   "cell_type": "code",
   "execution_count": 3,
   "id": "bd2c679d-3dbb-4665-ad14-678928a42a16",
   "metadata": {},
   "outputs": [],
   "source": [
    "# Load the model from the file\n",
    "model = joblib.load('model.pkl')"
   ]
  },
  {
   "cell_type": "code",
   "execution_count": 4,
   "id": "75a68507-98de-439f-99ed-19453f3b7a4d",
   "metadata": {},
   "outputs": [],
   "source": [
    "# accessing route endpoint (making a request)\n",
    "\n",
    "@app.route('/')\n",
    "def home():\n",
    "    return \"Welcome to Model Deployment!!\""
   ]
  },
  {
   "cell_type": "code",
   "execution_count": 5,
   "id": "6f0d08f4-c83d-43f1-ba04-d18634746aa8",
   "metadata": {},
   "outputs": [],
   "source": [
    "@app.route('/predict')\n",
    "def predict():\n",
    "    # Get values from browser\n",
    "    vol_moving_avg = request.args['vol_moving_avg']\n",
    "    adj_close_rolling_med = request.args['adj_close_rolling_med']\n",
    "\n",
    "    test_inp = np.array([vol_moving_avg, adj_close_rolling_med]).reshape(1, 2)\n",
    "    volume_predicted = model.predict(test_inp)[0]\n",
    "    output = \"Predicted Volume: \" + str(volume_predicted)\n",
    "\n",
    "    return (output)\n"
   ]
  },
  {
   "cell_type": "code",
   "execution_count": null,
   "id": "a7084003-69d6-4eef-95f5-41a2ac97da02",
   "metadata": {},
   "outputs": [
    {
     "name": "stdout",
     "output_type": "stream",
     "text": [
      "Running Application on local host with port 5000\n",
      " * Serving Flask app '__main__' (lazy loading)\n",
      " * Environment: production\n",
      "\u001b[31m   WARNING: This is a development server. Do not use it in a production deployment.\u001b[0m\n",
      "\u001b[2m   Use a production WSGI server instead.\u001b[0m\n",
      " * Debug mode: on\n"
     ]
    },
    {
     "name": "stderr",
     "output_type": "stream",
     "text": [
      " * Running on http://localhost:5000/ (Press CTRL+C to quit)\n",
      "127.0.0.1 - - [11/May/2023 02:25:33] \"GET / HTTP/1.1\" 200 -\n",
      "C:\\Users\\Mehul Bhargava\\miniconda3\\lib\\site-packages\\sklearn\\base.py:450: UserWarning: X does not have valid feature names, but RandomForestRegressor was fitted with feature names\n",
      "  warnings.warn(\n",
      "127.0.0.1 - - [11/May/2023 02:25:42] \"GET /predict?vol_moving_avg=5.267&adj_close_rolling_med=1.256 HTTP/1.1\" 200 -\n",
      "C:\\Users\\Mehul Bhargava\\miniconda3\\lib\\site-packages\\sklearn\\base.py:450: UserWarning: X does not have valid feature names, but RandomForestRegressor was fitted with feature names\n",
      "  warnings.warn(\n",
      "127.0.0.1 - - [11/May/2023 02:26:10] \"GET /predict?vol_moving_avg=6.721&adj_close_rolling_med=2.36 HTTP/1.1\" 200 -\n",
      "C:\\Users\\Mehul Bhargava\\miniconda3\\lib\\site-packages\\sklearn\\base.py:450: UserWarning: X does not have valid feature names, but RandomForestRegressor was fitted with feature names\n",
      "  warnings.warn(\n",
      "127.0.0.1 - - [11/May/2023 02:26:30] \"GET /predict?vol_moving_avg=6.721&adj_close_rolling_med=2.36 HTTP/1.1\" 200 -\n",
      "127.0.0.1 - - [11/May/2023 02:27:04] \"GET / HTTP/1.1\" 200 -\n",
      "C:\\Users\\Mehul Bhargava\\miniconda3\\lib\\site-packages\\sklearn\\base.py:450: UserWarning: X does not have valid feature names, but RandomForestRegressor was fitted with feature names\n",
      "  warnings.warn(\n",
      "127.0.0.1 - - [11/May/2023 02:27:27] \"GET /predict?vol_moving_avg=6.721&adj_close_rolling_med=2.36 HTTP/1.1\" 200 -\n",
      "127.0.0.1 - - [11/May/2023 02:30:51] \"GET / HTTP/1.1\" 200 -\n",
      "127.0.0.1 - - [11/May/2023 02:30:57] \"GET / HTTP/1.1\" 200 -\n"
     ]
    }
   ],
   "source": [
    "if __name__ == '__main__':\n",
    "    print(\"Running Application on local host with port 5000\")\n",
    "    app.run(host='localhost', debug=True, port=5000, use_reloader=False)\n",
    "    print(\"Application started\")"
   ]
  },
  {
   "cell_type": "code",
   "execution_count": null,
   "id": "dda24d21-70ef-455b-a8d6-a37dc37492d9",
   "metadata": {},
   "outputs": [],
   "source": [
    "# URL \n",
    "#http://localhost:5000/predict?vol_moving_avg=6.721&adj_close_rolling_med=2.36"
   ]
  },
  {
   "cell_type": "code",
   "execution_count": null,
   "id": "4f654ebd-6e9d-440f-aa36-6080448c992c",
   "metadata": {},
   "outputs": [],
   "source": []
  },
  {
   "cell_type": "code",
   "execution_count": null,
   "id": "d3d7c7ea-4d81-488c-84b2-aee76f0a731f",
   "metadata": {},
   "outputs": [],
   "source": []
  },
  {
   "cell_type": "code",
   "execution_count": null,
   "id": "51d75243-a300-4c21-8226-739269ec788f",
   "metadata": {},
   "outputs": [],
   "source": []
  },
  {
   "cell_type": "code",
   "execution_count": null,
   "id": "6ad13c2e-3a8e-4ef9-8a12-5b21a99d1c62",
   "metadata": {},
   "outputs": [],
   "source": []
  }
 ],
 "metadata": {
  "kernelspec": {
   "display_name": "Python 3 (ipykernel)",
   "language": "python",
   "name": "python3"
  },
  "language_info": {
   "codemirror_mode": {
    "name": "ipython",
    "version": 3
   },
   "file_extension": ".py",
   "mimetype": "text/x-python",
   "name": "python",
   "nbconvert_exporter": "python",
   "pygments_lexer": "ipython3",
   "version": "3.9.5"
  }
 },
 "nbformat": 4,
 "nbformat_minor": 5
}
